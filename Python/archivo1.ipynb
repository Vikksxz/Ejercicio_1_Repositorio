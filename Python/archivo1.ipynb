{
 "cells": [
  {
   "cell_type": "code",
   "execution_count": 16,
   "metadata": {},
   "outputs": [
    {
     "ename": "SyntaxError",
     "evalue": "invalid syntax (2056549158.py, line 1)",
     "output_type": "error",
     "traceback": [
      "\u001b[1;36m  Cell \u001b[1;32mIn[16], line 1\u001b[1;36m\u001b[0m\n\u001b[1;33m    from matplotlib ;  pyplot as plt\u001b[0m\n\u001b[1;37m                    ^\u001b[0m\n\u001b[1;31mSyntaxError\u001b[0m\u001b[1;31m:\u001b[0m invalid syntax\n"
     ]
    }
   ],
   "source": [
    "from matplotlib pyplot as plt\n",
    "import numpy as np\n",
    "import random\n",
    "print(\"Librerias importadas\")"
   ]
  },
  {
   "cell_type": "code",
   "execution_count": 6,
   "metadata": {},
   "outputs": [
    {
     "ename": "NameError",
     "evalue": "name 'random' is not defined",
     "output_type": "error",
     "traceback": [
      "\u001b[1;31m---------------------------------------------------------------------------\u001b[0m",
      "\u001b[1;31mNameError\u001b[0m                                 Traceback (most recent call last)",
      "Cell \u001b[1;32mIn[6], line 4\u001b[0m\n\u001b[0;32m      2\u001b[0m num_pares \u001b[38;5;241m=\u001b[39m \u001b[38;5;241m10\u001b[39m\n\u001b[0;32m      3\u001b[0m \u001b[38;5;28;01mfor\u001b[39;00m i \u001b[38;5;129;01min\u001b[39;00m \u001b[38;5;28mrange\u001b[39m (num_pares) :\n\u001b[1;32m----> 4\u001b[0m     punto \u001b[38;5;241m=\u001b[39m (\u001b[43mrandom\u001b[49m\u001b[38;5;241m.\u001b[39mint(\u001b[38;5;241m1\u001b[39m, \u001b[38;5;241m100\u001b[39m), random\u001b[38;5;241m.\u001b[39mrandint(\u001b[38;5;241m1\u001b[39m, \u001b[38;5;241m100\u001b[39m))\n\u001b[0;32m      5\u001b[0m     coordenadas\u001b[38;5;241m.\u001b[39mappend(punto)\n\u001b[0;32m      6\u001b[0m \u001b[38;5;28mprint\u001b[39m(coordenadas)\n",
      "\u001b[1;31mNameError\u001b[0m: name 'random' is not defined"
     ]
    }
   ],
   "source": [
    "coordenadas = []\n",
    "num_pares = 10\n",
    "for i in range (num_pares) :\n",
    "    punto = (random.int(1, 100), random.randint(1, 100))\n",
    "    coordenadas.append(punto)\n",
    "print(coordenadas)\n",
    "x,y = zip(*coordenadas)"
   ]
  },
  {
   "cell_type": "code",
   "execution_count": 7,
   "metadata": {},
   "outputs": [
    {
     "ename": "NameError",
     "evalue": "name 'plt' is not defined",
     "output_type": "error",
     "traceback": [
      "\u001b[1;31m---------------------------------------------------------------------------\u001b[0m",
      "\u001b[1;31mNameError\u001b[0m                                 Traceback (most recent call last)",
      "Cell \u001b[1;32mIn[7], line 1\u001b[0m\n\u001b[1;32m----> 1\u001b[0m \u001b[43mplt\u001b[49m\u001b[38;5;241m.\u001b[39mfigure(figsize\u001b[38;5;241m=\u001b[39m(\u001b[38;5;241m8\u001b[39m,\u001b[38;5;241m8\u001b[39m))\n\u001b[0;32m      2\u001b[0m plt\u001b[38;5;241m.\u001b[39mscatter(x,y, color\u001b[38;5;241m=\u001b[39m\u001b[38;5;124m\"\u001b[39m\u001b[38;5;124mblue\u001b[39m\u001b[38;5;124m\"\u001b[39m)\n\u001b[0;32m      3\u001b[0m plt\u001b[38;5;241m.\u001b[39mxlim(\u001b[38;5;241m0\u001b[39m,\u001b[38;5;241m100\u001b[39m)\n",
      "\u001b[1;31mNameError\u001b[0m: name 'plt' is not defined"
     ]
    }
   ],
   "source": [
    "plt.figure(figsize=(8,8))\n",
    "plt.scatter(x,y, color=\"blue\")\n",
    "plt.xlim(0,100)\n",
    "plt.ylim(0,100)\n",
    "\n",
    "plt.show()"
   ]
  },
  {
   "cell_type": "code",
   "execution_count": 2,
   "metadata": {},
   "outputs": [
    {
     "name": "stdout",
     "output_type": "stream",
     "text": [
      "\n",
      "Usage:   \n",
      "  C:\\Users\\georg\\AppData\\Local\\Microsoft\\WindowsApps\\PythonSoftwareFoundation.Python.3.10_qbz5n2kfra8p0\\python.exe -m pip install [options] <requirement specifier> [package-index-options] ...\n",
      "  C:\\Users\\georg\\AppData\\Local\\Microsoft\\WindowsApps\\PythonSoftwareFoundation.Python.3.10_qbz5n2kfra8p0\\python.exe -m pip install [options] -r <requirements file> [package-index-options] ...\n",
      "  C:\\Users\\georg\\AppData\\Local\\Microsoft\\WindowsApps\\PythonSoftwareFoundation.Python.3.10_qbz5n2kfra8p0\\python.exe -m pip install [options] [-e] <vcs project url> ...\n",
      "  C:\\Users\\georg\\AppData\\Local\\Microsoft\\WindowsApps\\PythonSoftwareFoundation.Python.3.10_qbz5n2kfra8p0\\python.exe -m pip install [options] [-e] <local project path> ...\n",
      "  C:\\Users\\georg\\AppData\\Local\\Microsoft\\WindowsApps\\PythonSoftwareFoundation.Python.3.10_qbz5n2kfra8p0\\python.exe -m pip install [options] <archive url/path> ...\n",
      "\n",
      "Description:\n",
      "  Install packages from:\n",
      "  \n",
      "  - PyPI (and other indexes) using requirement specifiers.\n",
      "  - VCS project urls.\n",
      "  - Local project directories.\n",
      "  - Local or remote source archives.\n",
      "  \n",
      "  pip also supports installing from \"requirements files\", which provide\n",
      "  an easy way to specify a whole environment to be installed.\n",
      "\n",
      "Install Options:\n",
      "  -r, --requirement <file>    Install from the given requirements file. This\n",
      "                              option can be used multiple times.\n",
      "  -c, --constraint <file>     Constrain versions using the given constraints\n",
      "                              file. This option can be used multiple times.\n",
      "  --no-deps                   Don't install package dependencies.\n",
      "  --pre                       Include pre-release and development versions. By\n",
      "                              default, pip only finds stable versions.\n",
      "  -e, --editable <path/url>   Install a project in editable mode (i.e.\n",
      "                              setuptools \"develop mode\") from a local project\n",
      "                              path or a VCS url.\n",
      "  --dry-run                   Don't actually install anything, just print what\n",
      "                              would be. Can be used in combination with\n",
      "                              --ignore-installed to 'resolve' the\n",
      "                              requirements.\n",
      "  -t, --target <dir>          Install packages into <dir>. By default this\n",
      "                              will not replace existing files/folders in\n",
      "                              <dir>. Use --upgrade to replace existing\n",
      "                              packages in <dir> with new versions.\n",
      "  --platform <platform>       Only use wheels compatible with <platform>.\n",
      "                              Defaults to the platform of the running system.\n",
      "                              Use this option multiple times to specify\n",
      "                              multiple platforms supported by the target\n",
      "                              interpreter.\n",
      "  --python-version <python_version>\n",
      "                              The Python interpreter version to use for wheel\n",
      "                              and \"Requires-Python\" compatibility checks.\n",
      "                              Defaults to a version derived from the running\n",
      "                              interpreter. The version can be specified using\n",
      "                              up to three dot-separated integers (e.g. \"3\" for\n",
      "                              3.0.0, \"3.7\" for 3.7.0, or \"3.7.3\"). A major-\n",
      "                              minor version can also be given as a string\n",
      "                              without dots (e.g. \"37\" for 3.7.0).\n",
      "  --implementation <implementation>\n",
      "                              Only use wheels compatible with Python\n",
      "                              implementation <implementation>, e.g. 'pp',\n",
      "                              'jy', 'cp',  or 'ip'. If not specified, then the\n",
      "                              current interpreter implementation is used.  Use\n",
      "                              'py' to force implementation-agnostic wheels.\n",
      "  --abi <abi>                 Only use wheels compatible with Python abi\n",
      "                              <abi>, e.g. 'pypy_41'. If not specified, then\n",
      "                              the current interpreter abi tag is used. Use\n",
      "                              this option multiple times to specify multiple\n",
      "                              abis supported by the target interpreter.\n",
      "                              Generally you will need to specify\n",
      "                              --implementation, --platform, and --python-\n",
      "                              version when using this option.\n",
      "  --user                      Install to the Python user install directory for\n",
      "                              your platform. Typically ~/.local/, or\n",
      "                              %APPDATA%\\Python on Windows. (See the Python\n",
      "                              documentation for site.USER_BASE for full\n",
      "                              details.)\n",
      "  --root <dir>                Install everything relative to this alternate\n",
      "                              root directory.\n",
      "  --prefix <dir>              Installation prefix where lib, bin and other\n",
      "                              top-level folders are placed\n",
      "  --src <dir>                 Directory to check out editable projects into.\n",
      "                              The default in a virtualenv is \"<venv\n",
      "                              path>/src\". The default for global installs is\n",
      "                              \"<current dir>/src\".\n",
      "  -U, --upgrade               Upgrade all specified packages to the newest\n",
      "                              available version. The handling of dependencies\n",
      "                              depends on the upgrade-strategy used.\n",
      "  --upgrade-strategy <upgrade_strategy>\n",
      "                              Determines how dependency upgrading should be\n",
      "                              handled [default: only-if-needed]. \"eager\" -\n",
      "                              dependencies are upgraded regardless of whether\n",
      "                              the currently installed version satisfies the\n",
      "                              requirements of the upgraded package(s). \"only-\n",
      "                              if-needed\" -  are upgraded only when they do not\n",
      "                              satisfy the requirements of the upgraded\n",
      "                              package(s).\n",
      "  --force-reinstall           Reinstall all packages even if they are already\n",
      "                              up-to-date.\n",
      "  -I, --ignore-installed      Ignore the installed packages, overwriting them.\n",
      "                              This can break your system if the existing\n",
      "                              package is of a different version or was\n",
      "                              installed with a different package manager!\n",
      "  --ignore-requires-python    Ignore the Requires-Python information.\n",
      "  --no-build-isolation        Disable isolation when building a modern source\n",
      "                              distribution. Build dependencies specified by\n",
      "                              PEP 518 must be already installed if this option\n",
      "                              is used.\n",
      "  --use-pep517                Use PEP 517 for building source distributions\n",
      "                              (use --no-use-pep517 to force legacy behaviour).\n",
      "  --check-build-dependencies  Check the build dependencies when PEP517 is\n",
      "                              used.\n",
      "  --break-system-packages     Allow pip to modify an EXTERNALLY-MANAGED Python\n",
      "                              installation\n",
      "  --config-settings <settings>\n",
      "                              Configuration settings to be passed to the PEP\n",
      "                              517 build backend. Settings take the form\n",
      "                              KEY=VALUE. Use multiple --config-settings\n",
      "                              options to pass multiple keys to the backend.\n",
      "  --install-option <options>  This option is deprecated. Using this option\n",
      "                              with location-changing options may cause\n",
      "                              unexpected behavior. Use pip-level options like\n",
      "                              --user, --prefix, --root, and --target.\n",
      "  --global-option <options>   Extra global options to be supplied to the\n",
      "                              setup.py call before the install or bdist_wheel\n",
      "                              command.\n",
      "  --compile                   Compile Python source files to bytecode\n",
      "  --no-compile                Do not compile Python source files to bytecode\n",
      "  --no-warn-script-location   Do not warn when installing scripts outside PATH\n",
      "  --no-warn-conflicts         Do not warn about broken dependencies\n",
      "  --no-binary <format_control>\n",
      "                              Do not use binary packages. Can be supplied\n",
      "                              multiple times, and each time adds to the\n",
      "                              existing value. Accepts either \":all:\" to\n",
      "                              disable all binary packages, \":none:\" to empty\n",
      "                              the set (notice the colons), or one or more\n",
      "                              package names with commas between them (no\n",
      "                              colons). Note that some packages are tricky to\n",
      "                              compile and may fail to install when this option\n",
      "                              is used on them.\n",
      "  --only-binary <format_control>\n",
      "                              Do not use source packages. Can be supplied\n",
      "                              multiple times, and each time adds to the\n",
      "                              existing value. Accepts either \":all:\" to\n",
      "                              disable all source packages, \":none:\" to empty\n",
      "                              the set, or one or more package names with\n",
      "                              commas between them. Packages without binary\n",
      "                              distributions will fail to install when this\n",
      "                              option is used on them.\n",
      "  --prefer-binary             Prefer older binary packages over newer source\n",
      "                              packages.\n",
      "  --require-hashes            Require a hash to check each requirement\n",
      "                              against, for repeatable installs. This option is\n",
      "                              implied when any package in a requirements file\n",
      "                              has a --hash option.\n",
      "  --progress-bar <progress_bar>\n",
      "                              Specify whether the progress bar should be used\n",
      "                              [on, off] (default: on)\n",
      "  --root-user-action <root_user_action>\n",
      "                              Action if pip is run as a root user. By default,\n",
      "                              a warning message is shown.\n",
      "  --report <file>             Generate a JSON file describing what pip did to\n",
      "                              install the provided requirements. Can be used\n",
      "                              in combination with --dry-run and --ignore-\n",
      "                              installed to 'resolve' the requirements. When -\n",
      "                              is used as file name it writes to stdout. When\n",
      "                              writing to stdout, please combine with the\n",
      "                              --quiet option to avoid mixing pip logging\n",
      "                              output with JSON output.\n",
      "  --no-clean                  Don't clean up build directories.\n",
      "\n",
      "Package Index Options:\n",
      "  -i, --index-url <url>       Base URL of the Python Package Index (default\n",
      "                              https://pypi.org/simple). This should point to a\n",
      "                              repository compliant with PEP 503 (the simple\n",
      "                              repository API) or a local directory laid out in\n",
      "                              the same format.\n",
      "  --extra-index-url <url>     Extra URLs of package indexes to use in addition\n",
      "                              to --index-url. Should follow the same rules as\n",
      "                              --index-url.\n",
      "  --no-index                  Ignore package index (only looking at --find-\n",
      "                              links URLs instead).\n",
      "  -f, --find-links <url>      If a URL or path to an html file, then parse for\n",
      "                              links to archives such as sdist (.tar.gz) or\n",
      "                              wheel (.whl) files. If a local path or file://\n",
      "                              URL that's a directory, then look for archives\n",
      "                              in the directory listing. Links to VCS project\n",
      "                              URLs are not supported.\n",
      "\n",
      "General Options:\n",
      "  -h, --help                  Show help.\n",
      "  --debug                     Let unhandled exceptions propagate outside the\n",
      "                              main subroutine, instead of logging them to\n",
      "                              stderr.\n",
      "  --isolated                  Run pip in an isolated mode, ignoring\n",
      "                              environment variables and user configuration.\n",
      "  --require-virtualenv        Allow pip to only run in a virtual environment;\n",
      "                              exit with an error otherwise.\n",
      "  --python <python>           Run pip with the specified Python interpreter.\n",
      "  -v, --verbose               Give more output. Option is additive, and can be\n",
      "                              used up to 3 times.\n",
      "  -V, --version               Show version and exit.\n",
      "  -q, --quiet                 Give less output. Option is additive, and can be\n",
      "                              used up to 3 times (corresponding to WARNING,\n",
      "                              ERROR, and CRITICAL logging levels).\n",
      "  --log <path>                Path to a verbose appending log.\n",
      "  --no-input                  Disable prompting for input.\n",
      "  --proxy <proxy>             Specify a proxy in the form\n",
      "                              scheme://[user:passwd@]proxy.server:port.\n",
      "  --retries <retries>         Maximum number of retries each connection should\n",
      "                              attempt (default 5 times).\n",
      "  --timeout <sec>             Set the socket timeout (default 15 seconds).\n",
      "  --exists-action <action>    Default action when a path already exists:\n",
      "                              (s)witch, (i)gnore, (w)ipe, (b)ackup, (a)bort.\n",
      "  --trusted-host <hostname>   Mark this host or host:port pair as trusted,\n",
      "                              even though it does not have valid or any HTTPS.\n",
      "  --cert <path>               Path to PEM-encoded CA certificate bundle. If\n",
      "                              provided, overrides the default. See 'SSL\n",
      "                              Certificate Verification' in pip documentation\n",
      "                              for more information.\n",
      "  --client-cert <path>        Path to SSL client certificate, a single file\n",
      "                              containing the private key and the certificate\n",
      "                              in PEM format.\n",
      "  --cache-dir <dir>           Store the cache data in <dir>.\n",
      "  --no-cache-dir              Disable the cache.\n",
      "  --disable-pip-version-check\n",
      "                              Don't periodically check PyPI to determine\n",
      "                              whether a new version of pip is available for\n",
      "                              download. Implied with --no-index.\n",
      "  --no-color                  Suppress colored output.\n",
      "  --no-python-version-warning\n",
      "                              Silence deprecation warnings for upcoming\n",
      "                              unsupported Pythons.\n",
      "  --use-feature <feature>     Enable new functionality, that may be backward\n",
      "                              incompatible.\n",
      "  --use-deprecated <feature>  Enable deprecated functionality, that will be\n",
      "                              removed in the future.\n"
     ]
    }
   ],
   "source": [
    "!pip help install\n"
   ]
  },
  {
   "cell_type": "code",
   "execution_count": 4,
   "metadata": {},
   "outputs": [],
   "source": [
    "#Definimos precios compra\n",
    "\n",
    "Pman = 1.22\n",
    "Pnar = 0.99\n",
    "Plim = 3.01\n",
    "\n"
   ]
  },
  {
   "cell_type": "code",
   "execution_count": 5,
   "metadata": {},
   "outputs": [],
   "source": [
    "#definimos las cantidades\n",
    "Manzanas = 6\n",
    "Naranjas = 20\n",
    "Limones = 98\n"
   ]
  },
  {
   "cell_type": "code",
   "execution_count": 6,
   "metadata": {},
   "outputs": [
    {
     "name": "stdout",
     "output_type": "stream",
     "text": [
      "El precio total de las frutas es: $322.00\n"
     ]
    }
   ],
   "source": [
    "Precio = round(Pman*Manzanas + Pnar*Naranjas + Plim*Limones)\n",
    "print(f\"El precio total de las frutas es: ${Precio:.2f}\")"
   ]
  },
  {
   "cell_type": "code",
   "execution_count": 2,
   "metadata": {},
   "outputs": [],
   "source": [
    "#Definimos el importe de la herencia y la rentabilidad de los bancos\n",
    "Importe = 1000\n",
    "R1 = 0.04\n",
    "R2 = 0.02\n",
    "R3 = 0.01"
   ]
  },
  {
   "cell_type": "code",
   "execution_count": null,
   "metadata": {},
   "outputs": [],
   "source": [
    "#Operamos con las rentabilidades de los bancos y el importe\n",
    "Total1 = Importe*(1+R1)\n",
    "Total2 = Importe*(1+R2)\n",
    "Total2 = Total2*(1+R2)"
   ]
  },
  {
   "cell_type": "code",
   "execution_count": 6,
   "metadata": {},
   "outputs": [],
   "source": [
    "#Calculamos La R3 mediante varias operaciones\n",
    "\n",
    "porcentaje = 0.01\n",
    "total = 1000\n",
    "\n"
   ]
  },
  {
   "cell_type": "code",
   "execution_count": 9,
   "metadata": {},
   "outputs": [
    {
     "name": "stdout",
     "output_type": "stream",
     "text": [
      "El interes mensual es de : {interes}\n"
     ]
    }
   ],
   "source": [
    "interes = total*porcentaje\n",
    "print(\"El interes mensual es de : {interes}\")"
   ]
  },
  {
   "cell_type": "code",
   "execution_count": 11,
   "metadata": {},
   "outputs": [
    {
     "name": "stdout",
     "output_type": "stream",
     "text": [
      "El total después de 12 meses es: 1040.60\n",
      "El interés total ganado es: 40.60\n"
     ]
    }
   ],
   "source": [
    "#Ahora definimos el numero de meses tambien\n",
    "total_inicial = 1000\n",
    "tasa_mensual = 0.01\n",
    "numero_meses = 4\n",
    "\n",
    "# Calcular el total final con interés compuesto\n",
    "total_final = total_inicial * (1 + tasa_mensual) ** numero_meses\n",
    "\n",
    "# Calcular el interés total ganado\n",
    "interes_total = total_final - total_inicial\n",
    "\n",
    "print(f\"El total después de 12 meses es: {total_final:.2f}\")\n",
    "print(f\"El interés total ganado es: {interes_total:.2f}\")\n"
   ]
  },
  {
   "cell_type": "code",
   "execution_count": 2,
   "metadata": {},
   "outputs": [
    {
     "name": "stdout",
     "output_type": "stream",
     "text": [
      "El total después de 1 año es: 1040.00\n",
      "La rentabilidad total ganada es: 40.00\n"
     ]
    }
   ],
   "source": [
    "# Calcular la tasa diaria\n",
    "tasa_anual = 0.04\n",
    "total_inicial = 1000\n",
    "numero_dias = 365\n",
    "\n",
    "tasa_diaria = (1 + tasa_anual) ** (1 / numero_dias) - 1\n",
    "\n",
    "# Inicializar variables\n",
    "total_actual = total_inicial\n",
    "dia = 0\n",
    "\n",
    "# Bucle while para acumular el interés diario\n",
    "while dia < numero_dias:\n",
    "    total_actual += total_actual * tasa_diaria\n",
    "    dia += 1\n",
    "\n",
    "# Calcular la rentabilidad total ganada\n",
    "rentabilidad_total = total_actual - total_inicial\n",
    "\n",
    "print(f\"El total después de 1 año es: {total_actual:.2f}\")\n",
    "print(f\"La rentabilidad total ganada es: {rentabilidad_total:.2f}\")\n"
   ]
  },
  {
   "cell_type": "code",
   "execution_count": 8,
   "metadata": {},
   "outputs": [
    {
     "name": "stdout",
     "output_type": "stream",
     "text": [
      "El total después de 1 año es: 1040.81\n",
      "La rentabilidad total ganada es: 40.81\n"
     ]
    }
   ],
   "source": [
    "total_inicial = 1000\n",
    "tasa_diaria = 0.04\n",
    "numero_dias = 365\n",
    "\n",
    "# Calcular la tasa diaria\n",
    "#tasa_diaria = (1 + tasa_diaria) ** (1 / numero_dias) - 1\n",
    "\n",
    "# Inicializar variables\n",
    "total_actual = total_inicial\n",
    "dia = 0\n",
    "\n",
    "# Bucle while para acumular el interés diario\n",
    "while dia < numero_dias:\n",
    "    total_actual = total_actual * (1 + tasa_diaria/numero_dias)\n",
    "    dia += 1\n",
    "\n",
    "# Calcular la rentabilidad total ganada\n",
    "rentabilidad_total = total_actual - total_inicial\n",
    "\n",
    "print(f\"El total después de 1 año es: {total_actual:.2f}\")\n",
    "print(f\"La rentabilidad total ganada es: {rentabilidad_total:.2f}\")\n",
    "\n"
   ]
  },
  {
   "cell_type": "code",
   "execution_count": 28,
   "metadata": {},
   "outputs": [],
   "source": [
    "\n",
    "total_inicial = 1000\n",
    "tasa_diaria = 0.04\n",
    "numero_seg = 60*24\n",
    "num_dias = 365\n",
    "# Calcular la tasa diaria\n",
    "#tasa_diaria = (1 + tasa_diaria) ** (1 / numero_dias) - 1\n",
    "\n",
    "# Inicializar variables\n",
    "total_actual = total_inicial\n",
    "dia = 0\n",
    "\n",
    "# Bucle while para acumular el interés diario\n",
    "while dia < numero_dias:\n",
    "    total_actual = total_actual * (1 + tasa_diaria/numero_dias)\n",
    "    dia += 1\n",
    "\n",
    "# Calcular la rentabilidad total ganada\n",
    "rentabilidad_total = total_actual - total_inicial\n",
    "\n",
    "print(f\"El total después de 1 año es: {total_actual:.2f}\")\n",
    "print(f\"La rentabilidad total ganada es: {rentabilidad_total:.2f}\")\n"
   ]
  },
  {
   "cell_type": "code",
   "execution_count": 14,
   "metadata": {},
   "outputs": [
    {
     "name": "stdout",
     "output_type": "stream",
     "text": [
      "1044.98\n"
     ]
    }
   ],
   "source": [
    "n = 365\n",
    "rent_anual = 0.004\n",
    "Importe = 1040.81\n",
    "\n",
    "\n",
    "I_comp = Importe*(1 + rent_anual/n) ** n\n",
    "print(f\"{I_comp:.2f}\")"
   ]
  },
  {
   "cell_type": "code",
   "execution_count": 7,
   "metadata": {},
   "outputs": [
    {
     "name": "stdout",
     "output_type": "stream",
     "text": [
      "El número de estados posibles de una baraja de 52 cartas es: 80658175170943878571660636856403766975289505440883277824000000000000\n"
     ]
    }
   ],
   "source": [
    "# Función para calcular el factorial de un número\n",
    "def factorial(n):\n",
    "    if n == 0 or n == 1:\n",
    "        return 1\n",
    "    resultado = 1\n",
    "    for i in range(2, n + 1):\n",
    "        resultado *= i\n",
    "    return resultado\n",
    "\n",
    "# Número de cartas en la baraja\n",
    "numero_de_cartas = 52\n",
    "\n",
    "# Calcular el número de permutaciones posibles\n",
    "numero_de_permutaciones = factorial(numero_de_cartas)\n",
    "\n",
    "print(f\"El número de estados posibles de una baraja de {numero_de_cartas} cartas es: {numero_de_permutaciones}\")\n"
   ]
  },
  {
   "cell_type": "code",
   "execution_count": 3,
   "metadata": {},
   "outputs": [
    {
     "name": "stdout",
     "output_type": "stream",
     "text": [
      "el numero de estados posibles de una baraja de 52 cartas es : 80658175170943878571660636856403766975289505440883277824000000000000\n"
     ]
    }
   ],
   "source": [
    "import math\n",
    "num_cartas = 52\n",
    "num_estados = math.factorial(num_cartas)\n",
    "\n",
    "print(f\"el numero de estados posibles de una baraja de {num_cartas} cartas es : {num_estados}\")"
   ]
  },
  {
   "cell_type": "code",
   "execution_count": 13,
   "metadata": {},
   "outputs": [
    {
     "name": "stdout",
     "output_type": "stream",
     "text": [
      "Se tarda en ordenar los 80658175170943878571660636856403766975289505440883277824000000000000 un total de 9.335436941081468e+62 dias\n"
     ]
    }
   ],
   "source": [
    "num_estados = 80658175170943878571660636856403766975289505440883277824000000000000\n",
    "dia = 86400\n",
    "tiempo_orden = num_estados/dia\n",
    "años = 365\n",
    "tiempo_orden2 = tiempo_orden/años\n",
    "\n",
    "print(f\"Se tarda en ordenar los {num_estados} un total de {tiempo_orden} dias\")\n"
   ]
  },
  {
   "cell_type": "code",
   "execution_count": 11,
   "metadata": {},
   "outputs": [
    {
     "name": "stdout",
     "output_type": "stream",
     "text": [
      "la suma de todos los numeros del 1 al 100 es: 5050\n"
     ]
    }
   ],
   "source": [
    "suma = 0\n",
    "for numero in range(1, 101):\n",
    "    suma += numero\n",
    "\n",
    "print(f\"la suma de todos los numeros del 1 al 100 es: {suma}\")"
   ]
  },
  {
   "cell_type": "code",
   "execution_count": 5,
   "metadata": {},
   "outputs": [
    {
     "name": "stdout",
     "output_type": "stream",
     "text": [
      "Hay 25 números primos hasta 100.\n"
     ]
    }
   ],
   "source": [
    "#Definimos lo que llamamos un numero primo\n",
    "def es_primo(num):\n",
    "    if num <= 1:\n",
    "        return False\n",
    "    if num == 2:\n",
    "        return True\n",
    "    if num % 2 == 0:\n",
    "        return False\n",
    "    for i in range(3, int(num**0.5) + 1, 2):\n",
    "        if num % i == 0:\n",
    "            return False\n",
    "    return True\n",
    "\n",
    "#Funciona desde 2 hasta la constante n que hayamos definido verificando cuales son primos llamando la funcion anterior\n",
    "def contar_primos(n):\n",
    "    contador = 0\n",
    "    for i in range(2, n + 1):\n",
    "        if es_primo(i):\n",
    "            contador += 1\n",
    "    return contador\n",
    "\n",
    "\n",
    "n = 100\n",
    "cantidad_primos = contar_primos(n)\n",
    "print(f\"Hay {cantidad_primos} números primos hasta {n}.\")\n",
    "\n",
    "    "
   ]
  }
 ],
 "metadata": {
  "kernelspec": {
   "display_name": "Python 3",
   "language": "python",
   "name": "python3"
  },
  "language_info": {
   "codemirror_mode": {
    "name": "ipython",
    "version": 3
   },
   "file_extension": ".py",
   "mimetype": "text/x-python",
   "name": "python",
   "nbconvert_exporter": "python",
   "pygments_lexer": "ipython3",
   "version": "3.10.11"
  }
 },
 "nbformat": 4,
 "nbformat_minor": 2
}
