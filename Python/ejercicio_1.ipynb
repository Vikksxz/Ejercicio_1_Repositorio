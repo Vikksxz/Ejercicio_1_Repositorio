{
 "cells": [
  {
   "cell_type": "code",
   "execution_count": 3,
   "metadata": {},
   "outputs": [
    {
     "name": "stdout",
     "output_type": "stream",
     "text": [
      "Eres mayor de edad\n"
     ]
    }
   ],
   "source": [
    "# Escribir un programa que pregunte al usuario su edad y muestre por pantalla si es mayor de edad o no\n",
    "\n",
    "edad = int(input(\"¿Cuántos años tienes? \"))\n",
    "if edad >= 18:\n",
    "    print(\"Eres mayor de edad\")\n",
    "else:\n",
    "    print(\"Eres menor de edad\")"
   ]
  },
  {
   "cell_type": "code",
   "execution_count": 5,
   "metadata": {},
   "outputs": [
    {
     "name": "stdout",
     "output_type": "stream",
     "text": [
      "contraseña correcta\n"
     ]
    }
   ],
   "source": [
    "# 2.\tEscribir un programa que almacene la cadena de caracteres contraseña en una variable, pregunte al usuario por la contraseña e imprima por pantalla si la contraseña introducida por el usuario coincide con la guardada en la variable sin tener en cuenta mayúsculas y minúsculas. \n",
    "\n",
    "contraseña = \"MiContraseña123\"\n",
    "\n",
    "ingresar_contraseña = input(\"ingresa la contraseña\")\n",
    "\n",
    "if ingresar_contraseña.lower() == contraseña.lower():\n",
    "    print(\"contraseña correcta\")\n",
    "else:\n",
    "    print(\"contraseña incorrecta\")"
   ]
  },
  {
   "cell_type": "code",
   "execution_count": 6,
   "metadata": {},
   "outputs": [
    {
     "name": "stdout",
     "output_type": "stream",
     "text": [
      "0.746268656716418\n"
     ]
    }
   ],
   "source": [
    "# Escribir un programa que pida al usuario dos numeros y muestre por pantalla su division, si el divisor es 0 que muestre un error\n",
    "\n",
    "Num1 = int(input(\"ingresa el primer numero\"))\n",
    "Num2 = int(input(\"Ingresa el segundo numero\"))\n",
    "\n",
    "if Num2 == 0:\n",
    "    print(\"Error, no se puede dividir entre 0\")\n",
    "else:\n",
    "    print(Num1 / Num2) \n"
   ]
  },
  {
   "cell_type": "code",
   "execution_count": 8,
   "metadata": {},
   "outputs": [
    {
     "name": "stdout",
     "output_type": "stream",
     "text": [
      "El numero es impar\n"
     ]
    }
   ],
   "source": [
    "# Escribir un programa que pida al usuario un numero entero y muestre por pantalla si es par o no\n",
    "\n",
    "num = int(input(\"Ingresa el numero\"))\n",
    "\n",
    "if num % 2 == 0:\n",
    "    print(\"El numero es par\")\n",
    "else:\n",
    "    print(\"El numero es impar\")"
   ]
  },
  {
   "cell_type": "code",
   "execution_count": 10,
   "metadata": {},
   "outputs": [
    {
     "name": "stdout",
     "output_type": "stream",
     "text": [
      "tienes que tributar\n"
     ]
    }
   ],
   "source": [
    "#  5.\tPara tributar un determinado impuesto se debe ser mayor de 16 años y tener unos ingresos iguales o superiores a 1000 € mensuales. Escribir un programa que pregunte al usuario su edad y sus ingresos mensuales y muestre por pantalla si el usuario tiene que tributar o no.\n",
    "\n",
    "edad = int(input(\"ingresa tu edad\"))\n",
    "ingresos = int(input(\"ingresa tus ingresos mensuales\"))\n",
    "\n",
    "if edad < 16 & ingresos < 1000:\n",
    "    print(\"no tienes que tributar\")\n",
    "else:\n",
    "    print(\"tienes que tributar\")"
   ]
  },
  {
   "cell_type": "code",
   "execution_count": 12,
   "metadata": {},
   "outputs": [
    {
     "name": "stdout",
     "output_type": "stream",
     "text": [
      "Notable\n"
     ]
    }
   ],
   "source": [
    "# 6.\tCon el nuevo sistema de evaluación hay que evaluar a los alumnos en: insuficiente, suficiente, bien, notable y sobresaliente. Escribe un programa que pregunte por la nota (0 al 10) e imprima el resultado en el nuevo sistema de evaluación.\n",
    "resultado = int(input(\"ingrese su resultado\"))\n",
    "\n",
    "if resultado < 5:\n",
    "    print(\"insuficiente\")\n",
    "elif resultado == 5 :\n",
    "    print(\"Suficiente\")\n",
    "elif resultado == 6:\n",
    "    print(\"Bien\")\n",
    "elif resultado <= 8:\n",
    "    print(\"Notable\")\n",
    "elif resultado >= 9:\n",
    "    print(\"Sobresaliente\")\n"
   ]
  },
  {
   "cell_type": "code",
   "execution_count": 13,
   "metadata": {},
   "outputs": [
    {
     "name": "stdout",
     "output_type": "stream",
     "text": [
      "Pertenece al grupo B\n"
     ]
    }
   ],
   "source": [
    "# 7.\tLos alumnos de un curso se han dividido en dos grupos A y B de acuerdo al sexo y el nombre. El grupo A está formado por las mujeres con un nombre anterior a la M y los hombres con un nombre posterior a la N y el grupo B por el resto. Escribir un programa que pregunte al usuario su nombre y sexo, y muestre por pantalla el grupo que le corresponde.\n",
    "\n",
    "nombre = input(\"Ingrese su nombre\")\n",
    "sx = input(\"Ingrese su genero\").upper()\n",
    "\n",
    "if (sx == 'F' and nombre[0].upper() < M) or (sx == 'M' and nombre[0].upper() > 'N'):\n",
    "    grupo = 'A'\n",
    "else:\n",
    "    grupo = 'B'\n",
    "\n",
    "print(f\"Pertenece al grupo {grupo}\")\n"
   ]
  }
 ],
 "metadata": {
  "kernelspec": {
   "display_name": "Python 3",
   "language": "python",
   "name": "python3"
  },
  "language_info": {
   "codemirror_mode": {
    "name": "ipython",
    "version": 3
   },
   "file_extension": ".py",
   "mimetype": "text/x-python",
   "name": "python",
   "nbconvert_exporter": "python",
   "pygments_lexer": "ipython3",
   "version": "3.10.11"
  }
 },
 "nbformat": 4,
 "nbformat_minor": 2
}
