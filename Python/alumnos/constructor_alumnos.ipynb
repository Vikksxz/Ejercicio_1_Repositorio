{
 "cells": [
  {
   "cell_type": "code",
   "execution_count": 1,
   "metadata": {},
   "outputs": [
    {
     "name": "stdout",
     "output_type": "stream",
     "text": [
      "Nombre completo: Juan Pérez García\n",
      "Fecha de nacimiento: 15/03/2000\n",
      "Mayor de edad: True\n"
     ]
    },
    {
     "ename": "TypeError",
     "evalue": "'dict' object is not callable",
     "output_type": "error",
     "traceback": [
      "\u001b[1;31m---------------------------------------------------------------------------\u001b[0m",
      "\u001b[1;31mTypeError\u001b[0m                                 Traceback (most recent call last)",
      "Cell \u001b[1;32mIn[1], line 51\u001b[0m\n\u001b[0;32m     48\u001b[0m \u001b[38;5;28mprint\u001b[39m(\u001b[38;5;124m\"\u001b[39m\u001b[38;5;124mMayor de edad:\u001b[39m\u001b[38;5;124m\"\u001b[39m, alumno1\u001b[38;5;241m.\u001b[39mmayor_edad())\n\u001b[0;32m     50\u001b[0m \u001b[38;5;66;03m# Imprimir notas del alumno (inicialmente no hay notas)\u001b[39;00m\n\u001b[1;32m---> 51\u001b[0m \u001b[43malumno1\u001b[49m\u001b[38;5;241;43m.\u001b[39;49m\u001b[43mnotas\u001b[49m\u001b[43m(\u001b[49m\u001b[43m)\u001b[49m\n\u001b[0;32m     53\u001b[0m \u001b[38;5;66;03m# Actualizar notas del alumno\u001b[39;00m\n\u001b[0;32m     54\u001b[0m alumno1\u001b[38;5;241m.\u001b[39mponer_notas(\u001b[38;5;124m\"\u001b[39m\u001b[38;5;124mMatemáticas\u001b[39m\u001b[38;5;124m\"\u001b[39m, \u001b[38;5;241m8.5\u001b[39m)\n",
      "\u001b[1;31mTypeError\u001b[0m: 'dict' object is not callable"
     ]
    }
   ],
   "source": [
    "# Definición de la clase Alumno\n",
    "class Alumno:\n",
    "    def __init__(self, nombre, apellido1, apellido2, fecha_nacimiento):\n",
    "        # Atributos iniciales\n",
    "        self.nombre = nombre\n",
    "        self.apellido1 = apellido1\n",
    "        self.apellido2 = apellido2\n",
    "        self.fecha_nacimiento = fecha_nacimiento\n",
    "        # Atributo no inicial\n",
    "        self.notas = {}\n",
    "    \n",
    "    def atributos(self):\n",
    "        # Imprime el nombre completo y la fecha de nacimiento\n",
    "        print(f\"Nombre completo: {self.nombre} {self.apellido1} {self.apellido2}\")\n",
    "        print(f\"Fecha de nacimiento: {self.fecha_nacimiento}\")\n",
    "    \n",
    "    def mayor_edad(self):\n",
    "        # Calcula la edad del alumno y devuelve True si es mayor de edad, False en caso contrario\n",
    "        from datetime import datetime\n",
    "        hoy = datetime.today()\n",
    "        fecha_nacimiento = datetime.strptime(self.fecha_nacimiento, \"%d/%m/%Y\")\n",
    "        edad = hoy.year - fecha_nacimiento.year - ((hoy.month, hoy.day) < (fecha_nacimiento.month, fecha_nacimiento.day))\n",
    "        return edad >= 18\n",
    "    \n",
    "    def notas(self):\n",
    "        # Imprime las notas del alumno\n",
    "        if self.notas:\n",
    "            print(\"Notas del alumno:\")\n",
    "            for asignatura, nota in self.notas.items():\n",
    "                print(f\"{asignatura}: {nota}\")\n",
    "        else:\n",
    "            print(\"No hay notas registradas para este alumno.\")\n",
    "    \n",
    "    def poner_notas(self, asignatura, nota):\n",
    "        # Actualiza las notas del alumno\n",
    "        self.notas[asignatura] = nota\n",
    "        print(f\"Nota de {asignatura} actualizada a {nota}\")\n",
    "\n",
    "# Ejemplo de uso de la clase Alumno\n",
    "if __name__ == \"__main__\":\n",
    "    # Crear un objeto Alumno\n",
    "    alumno1 = Alumno(\"Juan\", \"Pérez\", \"García\", \"15/03/2000\")\n",
    "    \n",
    "    # Imprimir atributos del alumno\n",
    "    alumno1.atributos()\n",
    "    \n",
    "    # Verificar si el alumno es mayor de edad\n",
    "    print(\"Mayor de edad:\", alumno1.mayor_edad())\n",
    "    \n",
    "    # Imprimir notas del alumno (inicialmente no hay notas)\n",
    "    alumno1.notas()\n",
    "    \n",
    "    # Actualizar notas del alumno\n",
    "    alumno1.poner_notas(\"Matemáticas\", 8.5)\n",
    "    alumno1.poner_notas(\"Historia\", 7.0)\n",
    "    \n",
    "    # Imprimir notas del alumno después de actualizarlas\n",
    "    alumno1.notas()\n"
   ]
  }
 ],
 "metadata": {
  "kernelspec": {
   "display_name": "Python 3",
   "language": "python",
   "name": "python3"
  },
  "language_info": {
   "codemirror_mode": {
    "name": "ipython",
    "version": 3
   },
   "file_extension": ".py",
   "mimetype": "text/x-python",
   "name": "python",
   "nbconvert_exporter": "python",
   "pygments_lexer": "ipython3",
   "version": "3.12.6"
  }
 },
 "nbformat": 4,
 "nbformat_minor": 2
}
