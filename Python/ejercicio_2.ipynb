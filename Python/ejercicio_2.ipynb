{
 "cells": [
  {
   "cell_type": "code",
   "execution_count": 1,
   "metadata": {},
   "outputs": [
    {
     "name": "stdout",
     "output_type": "stream",
     "text": [
      "¡Hola Mundo!\n"
     ]
    }
   ],
   "source": [
    "# escribir un programa que almecene la cadena ¡Hola Mundo! en una variable y luego muestre por pantalla el contenido de la variable\n",
    "\n",
    "cadena = \"¡Hola Mundo!\"\n",
    "print(cadena)"
   ]
  },
  {
   "cell_type": "code",
   "execution_count": 6,
   "metadata": {},
   "outputs": [
    {
     "name": "stdout",
     "output_type": "stream",
     "text": [
      "El total es 60998\n"
     ]
    }
   ],
   "source": [
    "# Escribe un programa que almacene el precio de tres productos y luego la cantidad de cada uno de ellos para calcular el precio total\n",
    "\n",
    "Prod_1 = 20\n",
    "Prod_2 = 40\n",
    "Prod_3 = 9863\n",
    "\n",
    "cant_p1 = int(input(\"Ingrese la cantidad del producto 1\"))\n",
    "cant_p2 = int(input(\"Ingrese la cantidad del producto 2\"))\n",
    "cant_p3 = int(input(\"Ingrese la cantidad del producto 3\"))\n",
    "\n",
    "print(f\"El total es {(cant_p1*Prod_1) + (cant_p2*Prod_2) + (cant_p3*Prod_3)}\")"
   ]
  },
  {
   "cell_type": "code",
   "execution_count": 10,
   "metadata": {},
   "outputs": [
    {
     "name": "stdout",
     "output_type": "stream",
     "text": [
      "Tu IMC es 18.94\n",
      "Peso normal\n"
     ]
    }
   ],
   "source": [
    "# Escribe un programa que pida un peso (kg) y una altura (m) y que calcule el IMC por pantalla\n",
    "\n",
    "peso = float(input(\"ingrese su peso en kilogramos\"))\n",
    "altura = float(input(\"ingrese su altura en metros\"))\n",
    "\n",
    "imc = peso / (altura ** 2)\n",
    "\n",
    "print(f\"Tu IMC es {imc:.2f}\")\n",
    "\n",
    "if imc < 18.5:\n",
    "    print(\"Peso bajo\")\n",
    "elif 18.5 <= imc < 24.9:\n",
    "    print(\"Peso normal\")\n",
    "elif 25 <= imc < 29.9:\n",
    "    print(\"Sobrepeso\")\n",
    "else:\n",
    "    print(\"Obesidad\")"
   ]
  },
  {
   "cell_type": "code",
   "execution_count": 12,
   "metadata": {},
   "outputs": [
    {
     "name": "stdout",
     "output_type": "stream",
     "text": [
      "23 entre 45 da como cociente 0 y de resto 23\n"
     ]
    }
   ],
   "source": [
    "# Escribe un programa que pida al usuario dos numeros enteros (n y m) y muestre por pantalla: \"n entre m da como cociente c y resto r\"\n",
    "\n",
    "numE_1 = int(input(\"Ingresa un numero entero\"))\n",
    "numE_2 = int(input(\"Ingrese otro numero entero\"))\n",
    "\n",
    "cociente = numE_1 // numE_2\n",
    "resto = numE_1 % numE_2\n",
    "\n",
    "print(f\"{numE_1} entre {numE_2} da como cociente {cociente} y de resto {resto}\")"
   ]
  }
 ],
 "metadata": {
  "kernelspec": {
   "display_name": "Python 3",
   "language": "python",
   "name": "python3"
  },
  "language_info": {
   "codemirror_mode": {
    "name": "ipython",
    "version": 3
   },
   "file_extension": ".py",
   "mimetype": "text/x-python",
   "name": "python",
   "nbconvert_exporter": "python",
   "pygments_lexer": "ipython3",
   "version": "3.10.11"
  }
 },
 "nbformat": 4,
 "nbformat_minor": 2
}
